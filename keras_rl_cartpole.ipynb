{
 "cells": [
  {
   "cell_type": "code",
   "execution_count": 1,
   "metadata": {},
   "outputs": [
    {
     "name": "stderr",
     "output_type": "stream",
     "text": [
      "Using TensorFlow backend.\n"
     ]
    }
   ],
   "source": [
    "%matplotlib inline\n",
    "\n",
    "import os\n",
    "import io\n",
    "import base64\n",
    "\n",
    "from IPython.display import HTML\n",
    "import matplotlib.pyplot as plt\n",
    "import gym\n",
    "\n",
    "from keras.models import Sequential\n",
    "from keras.layers import Dense, Activation, Flatten\n",
    "from keras.optimizers import Adam\n",
    "\n",
    "from rl.agents.dqn import DQNAgent\n",
    "from rl.policy import BoltzmannQPolicy\n",
    "from rl.memory import SequentialMemory\n",
    "from rl.callbacks import Callback"
   ]
  },
  {
   "cell_type": "code",
   "execution_count": 2,
   "metadata": {},
   "outputs": [],
   "source": [
    "weight_path = 'models/cartpole/keras_weights.h5'"
   ]
  },
  {
   "cell_type": "code",
   "execution_count": 3,
   "metadata": {},
   "outputs": [],
   "source": [
    "env = gym.make('CartPole-v0')"
   ]
  },
  {
   "cell_type": "code",
   "execution_count": 4,
   "metadata": {},
   "outputs": [],
   "source": [
    "env = gym.wrappers.Monitor(env, \"./gym-results/cartpole\", force=True, video_callable=(lambda ep: ep % 10 == 0))"
   ]
  },
  {
   "cell_type": "code",
   "execution_count": 5,
   "metadata": {},
   "outputs": [],
   "source": [
    "input_shape = (1,) + env.observation_space.shape\n",
    "output = env.action_space.n"
   ]
  },
  {
   "cell_type": "code",
   "execution_count": 6,
   "metadata": {},
   "outputs": [],
   "source": [
    "model = Sequential()\n",
    "model.add(Flatten(input_shape=input_shape))\n",
    "model.add(Dense(16))\n",
    "model.add(Activation('relu'))\n",
    "model.add(Dense(16))\n",
    "model.add(Activation('relu'))\n",
    "model.add(Dense(16))\n",
    "model.add(Activation('relu'))\n",
    "model.add(Dense(output))\n",
    "model.add(Activation('linear'))"
   ]
  },
  {
   "cell_type": "code",
   "execution_count": 7,
   "metadata": {},
   "outputs": [
    {
     "name": "stdout",
     "output_type": "stream",
     "text": [
      "Model: \"sequential_1\"\n",
      "_________________________________________________________________\n",
      "Layer (type)                 Output Shape              Param #   \n",
      "=================================================================\n",
      "flatten_1 (Flatten)          (None, 4)                 0         \n",
      "_________________________________________________________________\n",
      "dense_1 (Dense)              (None, 16)                80        \n",
      "_________________________________________________________________\n",
      "activation_1 (Activation)    (None, 16)                0         \n",
      "_________________________________________________________________\n",
      "dense_2 (Dense)              (None, 16)                272       \n",
      "_________________________________________________________________\n",
      "activation_2 (Activation)    (None, 16)                0         \n",
      "_________________________________________________________________\n",
      "dense_3 (Dense)              (None, 16)                272       \n",
      "_________________________________________________________________\n",
      "activation_3 (Activation)    (None, 16)                0         \n",
      "_________________________________________________________________\n",
      "dense_4 (Dense)              (None, 2)                 34        \n",
      "_________________________________________________________________\n",
      "activation_4 (Activation)    (None, 2)                 0         \n",
      "=================================================================\n",
      "Total params: 658\n",
      "Trainable params: 658\n",
      "Non-trainable params: 0\n",
      "_________________________________________________________________\n"
     ]
    }
   ],
   "source": [
    "model.summary()"
   ]
  },
  {
   "cell_type": "code",
   "execution_count": 8,
   "metadata": {},
   "outputs": [],
   "source": [
    "dqn = DQNAgent(\n",
    "    model=model,\n",
    "    # 出力 分類数 action数\n",
    "    nb_actions=output,\n",
    "    # 割引率 https://github.com/keras-rl/keras-rl/blob/master/rl/agents/dqn.py#L307\n",
    "    gamma=0.99,\n",
    "    # experience replay\n",
    "    # メモリにaction、reward、observationsなどのデータを経験（Experience）として保管しておいて、\n",
    "    # 後でランダムにデータを再生（Replay）して学習を行う\n",
    "    memory=SequentialMemory(\n",
    "        # メモリの上限サイズ\n",
    "        limit=5000,\n",
    "        # 観測を何個連結して処理するか。例えば時系列の複数の観測をまとめて1つの状態とする場合に利用。\n",
    "        window_length=1,\n",
    "    ),\n",
    "    # ウォームアップステップ数。学習の初期は安定しないため、学習率を徐々に上げていく期間。\n",
    "    nb_steps_warmup=10,\n",
    "    # bellman equation\n",
    "    # 1未満の値の場合はSoft update\n",
    "    # 1以上の値の場合はHard update = ステップごとに重みが完全に更新\n",
    "    target_model_update=1e-2,\n",
    "    # 環境において行動を選択する基準\n",
    "    # GreedyQPolicy デフォルト 探索か活用か、学習が進むにつれて探索率を下げていく\n",
    "    # BoltzmannQPolicy ボルツマン分布を利用したソフトマックス手法による方策\n",
    "    policy=BoltzmannQPolicy(),\n",
    ")"
   ]
  },
  {
   "cell_type": "code",
   "execution_count": 9,
   "metadata": {},
   "outputs": [],
   "source": [
    "dqn.compile(Adam(lr=1e-3), metrics=['mae'])"
   ]
  },
  {
   "cell_type": "code",
   "execution_count": 10,
   "metadata": {},
   "outputs": [],
   "source": [
    "if os.path.exists(weight_path):\n",
    "    dqn.load_weights(weight_path)"
   ]
  },
  {
   "cell_type": "code",
   "execution_count": 11,
   "metadata": {
    "scrolled": true
   },
   "outputs": [
    {
     "name": "stdout",
     "output_type": "stream",
     "text": [
      "Training for 10000 steps ...\n",
      "Interval 1 (0 steps performed)\n",
      "WARNING:tensorflow:From /usr/local/lib/python3.7/site-packages/keras/backend/tensorflow_backend.py:422: The name tf.global_variables is deprecated. Please use tf.compat.v1.global_variables instead.\n",
      "\n",
      "   8/1000 [..............................] - ETA: 16s - reward: 1.0000 "
     ]
    },
    {
     "name": "stderr",
     "output_type": "stream",
     "text": [
      "/usr/local/lib/python3.7/site-packages/rl/memory.py:39: UserWarning: Not enough entries to sample without replacement. Consider increasing your warm-up phase to avoid oversampling!\n",
      "  warnings.warn('Not enough entries to sample without replacement. Consider increasing your warm-up phase to avoid oversampling!')\n"
     ]
    },
    {
     "name": "stdout",
     "output_type": "stream",
     "text": [
      "1000/1000 [==============================] - 7s 7ms/step - reward: 1.0000\n",
      "38 episodes - episode_reward: 25.711 [10.000, 74.000] - loss: 0.167 - mae: 2.140 - mean_q: 4.072\n",
      "\n",
      "Interval 2 (1000 steps performed)\n",
      "1000/1000 [==============================] - 7s 7ms/step - reward: 1.0000\n",
      "10 episodes - episode_reward: 94.800 [13.000, 153.000] - loss: 0.691 - mae: 6.397 - mean_q: 12.811\n",
      "\n",
      "Interval 3 (2000 steps performed)\n",
      "1000/1000 [==============================] - 7s 7ms/step - reward: 1.0000\n",
      "5 episodes - episode_reward: 182.800 [148.000, 200.000] - loss: 1.431 - mae: 11.060 - mean_q: 22.382\n",
      "\n",
      "Interval 4 (3000 steps performed)\n",
      "1000/1000 [==============================] - 6s 6ms/step - reward: 1.0000\n",
      "5 episodes - episode_reward: 200.000 [200.000, 200.000] - loss: 2.116 - mae: 15.522 - mean_q: 31.453\n",
      "\n",
      "Interval 5 (4000 steps performed)\n",
      "1000/1000 [==============================] - 7s 7ms/step - reward: 1.0000\n",
      "5 episodes - episode_reward: 200.000 [200.000, 200.000] - loss: 3.062 - mae: 19.821 - mean_q: 40.109\n",
      "\n",
      "Interval 6 (5000 steps performed)\n",
      "1000/1000 [==============================] - 6s 6ms/step - reward: 1.0000\n",
      "5 episodes - episode_reward: 200.000 [200.000, 200.000] - loss: 4.575 - mae: 23.607 - mean_q: 47.616\n",
      "\n",
      "Interval 7 (6000 steps performed)\n",
      "1000/1000 [==============================] - 7s 7ms/step - reward: 1.0000\n",
      "5 episodes - episode_reward: 200.000 [200.000, 200.000] - loss: 5.147 - mae: 26.375 - mean_q: 52.996\n",
      "\n",
      "Interval 8 (7000 steps performed)\n",
      "1000/1000 [==============================] - 6s 6ms/step - reward: 1.0000\n",
      "5 episodes - episode_reward: 200.000 [200.000, 200.000] - loss: 4.820 - mae: 28.934 - mean_q: 58.051\n",
      "\n",
      "Interval 9 (8000 steps performed)\n",
      "1000/1000 [==============================] - 7s 7ms/step - reward: 1.0000\n",
      "6 episodes - episode_reward: 193.500 [173.000, 200.000] - loss: 5.866 - mae: 30.825 - mean_q: 61.721\n",
      "\n",
      "Interval 10 (9000 steps performed)\n",
      "1000/1000 [==============================] - 6s 6ms/step - reward: 1.0000\n",
      "done, took 66.200 seconds\n"
     ]
    }
   ],
   "source": [
    "try:\n",
    "    dqn.fit(\n",
    "        env,\n",
    "        nb_steps=10000,  # 1min\n",
    "        visualize=False,\n",
    "        log_interval=1000,\n",
    "    )\n",
    "except KeyboardInterrupt:\n",
    "    pass\n",
    "finally:\n",
    "    dqn.save_weights(weight_path, overwrite=True)"
   ]
  },
  {
   "cell_type": "code",
   "execution_count": 17,
   "metadata": {},
   "outputs": [
    {
     "data": {
      "text/html": [
       "\n",
       "    <video width=\"360\" height=\"auto\" alt=\"test\" controls><source src=\"data:video/mp4;base64,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\" type=\"video/mp4\" /></video>"
      ],
      "text/plain": [
       "<IPython.core.display.HTML object>"
      ]
     },
     "execution_count": 17,
     "metadata": {},
     "output_type": "execute_result"
    }
   ],
   "source": [
    "video = io.open('./gym-results/cartpole/openaigym.video.%s.video000010.mp4' % env.file_infix, 'r+b').read()\n",
    "encoded = base64.b64encode(video)\n",
    "HTML(data='''\n",
    "    <video width=\"360\" height=\"auto\" alt=\"test\" controls><source src=\"data:video/mp4;base64,{0}\" type=\"video/mp4\" /></video>'''\n",
    ".format(encoded.decode('ascii')))"
   ]
  },
  {
   "cell_type": "code",
   "execution_count": 18,
   "metadata": {},
   "outputs": [
    {
     "data": {
      "text/html": [
       "\n",
       "    <video width=\"360\" height=\"auto\" alt=\"test\" controls><source src=\"data:video/mp4;base64,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\" type=\"video/mp4\" /></video>"
      ],
      "text/plain": [
       "<IPython.core.display.HTML object>"
      ]
     },
     "execution_count": 18,
     "metadata": {},
     "output_type": "execute_result"
    }
   ],
   "source": [
    "video = io.open('./gym-results/cartpole/openaigym.video.%s.video000080.mp4' % env.file_infix, 'r+b').read()\n",
    "encoded = base64.b64encode(video)\n",
    "HTML(data='''\n",
    "    <video width=\"360\" height=\"auto\" alt=\"test\" controls><source src=\"data:video/mp4;base64,{0}\" type=\"video/mp4\" /></video>'''\n",
    ".format(encoded.decode('ascii')))"
   ]
  },
  {
   "cell_type": "code",
   "execution_count": null,
   "metadata": {},
   "outputs": [],
   "source": []
  }
 ],
 "metadata": {
  "kernelspec": {
   "display_name": "Python 3",
   "language": "python",
   "name": "python3"
  },
  "language_info": {
   "codemirror_mode": {
    "name": "ipython",
    "version": 3
   },
   "file_extension": ".py",
   "mimetype": "text/x-python",
   "name": "python",
   "nbconvert_exporter": "python",
   "pygments_lexer": "ipython3",
   "version": "3.7.4"
  }
 },
 "nbformat": 4,
 "nbformat_minor": 2
}
