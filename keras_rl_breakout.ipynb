{
 "cells": [
  {
   "cell_type": "code",
   "execution_count": 1,
   "metadata": {},
   "outputs": [
    {
     "name": "stderr",
     "output_type": "stream",
     "text": [
      "Using TensorFlow backend.\n"
     ]
    }
   ],
   "source": [
    "%matplotlib inline\n",
    "\n",
    "import os\n",
    "import io\n",
    "import base64\n",
    "\n",
    "from IPython.display import HTML\n",
    "import matplotlib.pyplot as plt\n",
    "from PIL import Image\n",
    "import numpy as np\n",
    "import gym\n",
    "\n",
    "from keras.models import Sequential\n",
    "from keras.layers import Dense, Activation, Flatten, Convolution2D, Permute\n",
    "from keras.optimizers import Adam\n",
    "\n",
    "from rl.agents.dqn import DQNAgent\n",
    "from rl.policy import LinearAnnealedPolicy, EpsGreedyQPolicy\n",
    "from rl.memory import SequentialMemory\n",
    "from rl.core import Processor\n",
    "from rl.callbacks import Callback"
   ]
  },
  {
   "cell_type": "code",
   "execution_count": 2,
   "metadata": {},
   "outputs": [],
   "source": [
    "INPUT_SHAPE = (84, 84)\n",
    "WINDOW_LENGTH = 4"
   ]
  },
  {
   "cell_type": "code",
   "execution_count": 3,
   "metadata": {},
   "outputs": [],
   "source": [
    "class AtariProcessor(Processor):\n",
    "    def process_observation(self, observation):\n",
    "        assert observation.ndim == 3\n",
    "        img = Image.fromarray(observation)\n",
    "        img = img.resize(INPUT_SHAPE).convert('L')\n",
    "        processed_observation = np.array(img)\n",
    "        assert processed_observation.shape == INPUT_SHAPE\n",
    "        return processed_observation.astype('uint8')\n",
    "\n",
    "    def process_state_batch(self, batch):\n",
    "        processed_batch = batch.astype('float32') / 255.\n",
    "        return processed_batch\n",
    "\n",
    "    def process_reward(self, reward):\n",
    "        return np.clip(reward, -1., 1.)"
   ]
  },
  {
   "cell_type": "code",
   "execution_count": 4,
   "metadata": {},
   "outputs": [],
   "source": [
    "weight_path = 'models/breakout/keras_weights.h5'"
   ]
  },
  {
   "cell_type": "code",
   "execution_count": 5,
   "metadata": {},
   "outputs": [],
   "source": [
    "env = gym.make('BreakoutDeterministic-v4')"
   ]
  },
  {
   "cell_type": "code",
   "execution_count": 6,
   "metadata": {},
   "outputs": [],
   "source": [
    "env = gym.wrappers.Monitor(env, \"./gym-results/breakout\", force=True, video_callable=(lambda ep: ep % 100 == 0))"
   ]
  },
  {
   "cell_type": "code",
   "execution_count": 7,
   "metadata": {},
   "outputs": [],
   "source": [
    "input_shape = (WINDOW_LENGTH,) + INPUT_SHAPE\n",
    "nb_actions = env.action_space.n"
   ]
  },
  {
   "cell_type": "code",
   "execution_count": 8,
   "metadata": {},
   "outputs": [],
   "source": [
    "model = Sequential()\n",
    "model.add(Permute((2, 3, 1), input_shape=input_shape))\n",
    "model.add(Convolution2D(32, (8, 8), strides=(4, 4)))\n",
    "model.add(Activation('relu'))\n",
    "model.add(Convolution2D(64, (4, 4), strides=(2, 2)))\n",
    "model.add(Activation('relu'))\n",
    "model.add(Convolution2D(64, (3, 3), strides=(1, 1)))\n",
    "model.add(Activation('relu'))\n",
    "model.add(Flatten())\n",
    "model.add(Dense(512))\n",
    "model.add(Activation('relu'))\n",
    "model.add(Dense(nb_actions))\n",
    "model.add(Activation('linear'))"
   ]
  },
  {
   "cell_type": "code",
   "execution_count": 9,
   "metadata": {},
   "outputs": [
    {
     "name": "stdout",
     "output_type": "stream",
     "text": [
      "Model: \"sequential_1\"\n",
      "_________________________________________________________________\n",
      "Layer (type)                 Output Shape              Param #   \n",
      "=================================================================\n",
      "permute_1 (Permute)          (None, 84, 84, 4)         0         \n",
      "_________________________________________________________________\n",
      "conv2d_1 (Conv2D)            (None, 20, 20, 32)        8224      \n",
      "_________________________________________________________________\n",
      "activation_1 (Activation)    (None, 20, 20, 32)        0         \n",
      "_________________________________________________________________\n",
      "conv2d_2 (Conv2D)            (None, 9, 9, 64)          32832     \n",
      "_________________________________________________________________\n",
      "activation_2 (Activation)    (None, 9, 9, 64)          0         \n",
      "_________________________________________________________________\n",
      "conv2d_3 (Conv2D)            (None, 7, 7, 64)          36928     \n",
      "_________________________________________________________________\n",
      "activation_3 (Activation)    (None, 7, 7, 64)          0         \n",
      "_________________________________________________________________\n",
      "flatten_1 (Flatten)          (None, 3136)              0         \n",
      "_________________________________________________________________\n",
      "dense_1 (Dense)              (None, 512)               1606144   \n",
      "_________________________________________________________________\n",
      "activation_4 (Activation)    (None, 512)               0         \n",
      "_________________________________________________________________\n",
      "dense_2 (Dense)              (None, 4)                 2052      \n",
      "_________________________________________________________________\n",
      "activation_5 (Activation)    (None, 4)                 0         \n",
      "=================================================================\n",
      "Total params: 1,686,180\n",
      "Trainable params: 1,686,180\n",
      "Non-trainable params: 0\n",
      "_________________________________________________________________\n"
     ]
    }
   ],
   "source": [
    "model.summary()"
   ]
  },
  {
   "cell_type": "code",
   "execution_count": 10,
   "metadata": {},
   "outputs": [],
   "source": [
    "memory = SequentialMemory(limit=1000000, window_length=WINDOW_LENGTH)\n",
    "processor = AtariProcessor()"
   ]
  },
  {
   "cell_type": "code",
   "execution_count": 11,
   "metadata": {},
   "outputs": [],
   "source": [
    "policy = LinearAnnealedPolicy(\n",
    "    EpsGreedyQPolicy(), attr='eps', value_max=1., value_min=.1, value_test=.05,\n",
    "    nb_steps=1000000)"
   ]
  },
  {
   "cell_type": "code",
   "execution_count": 12,
   "metadata": {},
   "outputs": [],
   "source": [
    "dqn = DQNAgent(\n",
    "    model=model, nb_actions=nb_actions, policy=policy, memory=memory,\n",
    "    processor=processor, nb_steps_warmup=50000, gamma=.99, target_model_update=10000,\n",
    "    train_interval=4, delta_clip=1.)"
   ]
  },
  {
   "cell_type": "code",
   "execution_count": 13,
   "metadata": {},
   "outputs": [
    {
     "name": "stdout",
     "output_type": "stream",
     "text": [
      "WARNING:tensorflow:From /usr/local/lib/python3.7/site-packages/rl/util.py:79: add_dispatch_support.<locals>.wrapper (from tensorflow.python.ops.array_ops) is deprecated and will be removed in a future version.\n",
      "Instructions for updating:\n",
      "Use tf.where in 2.0, which has the same broadcast rule as np.where\n"
     ]
    }
   ],
   "source": [
    "dqn.compile(Adam(lr=.00025), metrics=['mae'])"
   ]
  },
  {
   "cell_type": "code",
   "execution_count": 14,
   "metadata": {},
   "outputs": [],
   "source": [
    "if os.path.exists(weight_path):\n",
    "    dqn.load_weights(weight_path)"
   ]
  },
  {
   "cell_type": "code",
   "execution_count": 15,
   "metadata": {
    "scrolled": true
   },
   "outputs": [
    {
     "name": "stdout",
     "output_type": "stream",
     "text": [
      "Training for 50000 steps ...\n",
      "Interval 1 (0 steps performed)\n",
      "WARNING:tensorflow:From /usr/local/lib/python3.7/site-packages/keras/backend/tensorflow_backend.py:422: The name tf.global_variables is deprecated. Please use tf.compat.v1.global_variables instead.\n",
      "\n",
      "10000/10000 [==============================] - 30s 3ms/step - reward: 0.0061\n",
      "56 episodes - episode_reward: 1.089 [0.000, 4.000] - ale.lives: 2.968\n",
      "\n",
      "Interval 2 (10000 steps performed)\n",
      "10000/10000 [==============================] - 30s 3ms/step - reward: 0.0063\n",
      "56 episodes - episode_reward: 1.125 [0.000, 4.000] - ale.lives: 2.930\n",
      "\n",
      "Interval 3 (20000 steps performed)\n",
      "10000/10000 [==============================] - 30s 3ms/step - reward: 0.0045\n",
      "61 episodes - episode_reward: 0.738 [0.000, 3.000] - ale.lives: 2.959\n",
      "\n",
      "Interval 4 (30000 steps performed)\n",
      "10000/10000 [==============================] - 30s 3ms/step - reward: 0.0068\n",
      "54 episodes - episode_reward: 1.241 [0.000, 6.000] - ale.lives: 2.892\n",
      "\n",
      "Interval 5 (40000 steps performed)\n",
      "10000/10000 [==============================] - 30s 3ms/step - reward: 0.0052\n",
      "done, took 151.915 seconds\n"
     ]
    }
   ],
   "source": [
    "try:\n",
    "    dqn.fit(\n",
    "        env,\n",
    "        nb_steps=50000,\n",
    "#         nb_steps=1750000,  # 8h\n",
    "        visualize=False,\n",
    "    )\n",
    "except KeyboardInterrupt:\n",
    "    pass\n",
    "finally:\n",
    "    dqn.save_weights(weight_path, overwrite=True)"
   ]
  },
  {
   "cell_type": "code",
   "execution_count": 16,
   "metadata": {},
   "outputs": [
    {
     "data": {
      "text/html": [
       "\n",
       "    <video width=\"360\" height=\"auto\" alt=\"test\" controls><source src=\"data:video/mp4;base64,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\" type=\"video/mp4\" /></video>"
      ],
      "text/plain": [
       "<IPython.core.display.HTML object>"
      ]
     },
     "execution_count": 16,
     "metadata": {},
     "output_type": "execute_result"
    }
   ],
   "source": [
    "video = io.open('./gym-results/breakout/openaigym.video.%s.video000000.mp4' % env.file_infix, 'r+b').read()\n",
    "encoded = base64.b64encode(video)\n",
    "HTML(data='''\n",
    "    <video width=\"360\" height=\"auto\" alt=\"test\" controls><source src=\"data:video/mp4;base64,{0}\" type=\"video/mp4\" /></video>'''\n",
    ".format(encoded.decode('ascii')))"
   ]
  },
  {
   "cell_type": "code",
   "execution_count": 17,
   "metadata": {},
   "outputs": [
    {
     "data": {
      "text/html": [
       "\n",
       "    <video width=\"360\" height=\"auto\" alt=\"test\" controls><source src=\"data:video/mp4;base64,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\" type=\"video/mp4\" /></video>"
      ],
      "text/plain": [
       "<IPython.core.display.HTML object>"
      ]
     },
     "execution_count": 17,
     "metadata": {},
     "output_type": "execute_result"
    }
   ],
   "source": [
    "video = io.open('./gym-results/breakout/openaigym.video.%s.video000200.mp4' % env.file_infix, 'r+b').read()\n",
    "encoded = base64.b64encode(video)\n",
    "HTML(data='''\n",
    "    <video width=\"360\" height=\"auto\" alt=\"test\" controls><source src=\"data:video/mp4;base64,{0}\" type=\"video/mp4\" /></video>'''\n",
    ".format(encoded.decode('ascii')))"
   ]
  },
  {
   "cell_type": "code",
   "execution_count": null,
   "metadata": {},
   "outputs": [],
   "source": []
  }
 ],
 "metadata": {
  "kernelspec": {
   "display_name": "Python 3",
   "language": "python",
   "name": "python3"
  },
  "language_info": {
   "codemirror_mode": {
    "name": "ipython",
    "version": 3
   },
   "file_extension": ".py",
   "mimetype": "text/x-python",
   "name": "python",
   "nbconvert_exporter": "python",
   "pygments_lexer": "ipython3",
   "version": "3.7.4"
  }
 },
 "nbformat": 4,
 "nbformat_minor": 2
}
