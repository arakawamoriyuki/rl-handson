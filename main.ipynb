{
 "cells": [
  {
   "cell_type": "markdown",
   "metadata": {},
   "source": [
    "## 機械学習基礎\n",
    "\n",
    "### 用途の分類\n",
    "\n",
    "![用途の分類](https://products.sint.co.jp/hs-fs/hubfs/images/aisia/blog/9_001.png?width=1556&height=1060&name=9_001.png)\n",
    "\n",
    "![用途](https://cdn-xtrend.nikkei.com/atcl/contents/18/00076/00002/01.png?__scale=w:640,h:500&_sh=086000490b)\n",
    "\n",
    "### 機械学習(マシンラーニング)/ニューラルネットワーク/ディープラーニング\n",
    "\n",
    "![マシンラーニング/ニューラルネットワーク/ディープラーニング](http://www.dri.co.jp/dri_forum/wp-content/uploads/2018/08/5145-01.bmp)"
   ]
  },
  {
   "cell_type": "markdown",
   "metadata": {},
   "source": [
    "## 強化学習基礎\n",
    "\n",
    "https://www.slideshare.net/takahirokubo7792/techcircle-18-python-openai-gym?ref=https://techcircle.connpass.com/event/43844/presentation/"
   ]
  },
  {
   "cell_type": "markdown",
   "metadata": {},
   "source": [
    "## 今回使うライブラリ/フレームワーク\n",
    "\n",
    "- open ai gym\n",
    "  - 強化学習の研究などに利用できるゲームを提供している\n",
    "- keras\n",
    "  - ニューラルネットワーク実装の高レベルライブラリ\n",
    "  - tensorflowのwrapper、tensorflow2からkerasと密接に連携でき、公式のチュートリアルもkerasに変わっている\n",
    "  - tensorboradやtensorflow hub, tensorflow servingなども(一部使えなかったりするが)ちゃんとサポートされるはず\n",
    "- keras-rl\n",
    "  - kerasのネットワーク設計のしやすさを生かした強化学習用ライブラリ。\n",
    "\n",
    "他にも強化学習フレームワークとしてtensorforceがある。\n",
    "pommermanのexampleはtensorforceだったので `tensorforce_*.py` に実装してますが使いやすいもののドキュメントが厳しいので価値は低いかも。"
   ]
  },
  {
   "cell_type": "markdown",
   "metadata": {},
   "source": [
    "## 基本的な実装イメージ"
   ]
  },
  {
   "cell_type": "markdown",
   "metadata": {},
   "source": [
    "```python\n",
    "import gym\n",
    "\n",
    "# 環境作成と初期化\n",
    "env = gym.make('CartPole-v0')\n",
    "state = env.reset()\n",
    "\n",
    "# エージェント作成\n",
    "agent = create_agent()\n",
    "\n",
    "for _ in range(1000):\n",
    "    # 描画\n",
    "    env.render()\n",
    "    \n",
    "    # エージェントに状態を与えてアクションを決定させる\n",
    "    action = agent.action(state)\n",
    "    \n",
    "    # アクションを環境に渡してゲームを進める\n",
    "    observation, reward = env.step(action)\n",
    "    \n",
    "    # 今の行動を評価する\n",
    "    agent.observe(reward)\n",
    "```"
   ]
  },
  {
   "cell_type": "markdown",
   "metadata": {},
   "source": [
    "## 今日実装するもの\n",
    "\n",
    "cartpole\n",
    "\n",
    "![cartpole](https://book.mynavi.jp/files/user/manatee/rensai/019_kyoukagakusyuu/09/cartpole.gif)\n",
    "\n",
    "breakout\n",
    "\n",
    "![breakout](https://thumbs.gfycat.com/AnchoredScornfulAustraliansilkyterrier-size_restricted.gif)\n",
    "\n",
    "pommerman\n",
    "\n",
    "![pommerman](https://www.pommerman.com/static/media/pommerman.abbcd943.gif)"
   ]
  },
  {
   "cell_type": "markdown",
   "metadata": {},
   "source": []
  },
  {
   "cell_type": "markdown",
   "metadata": {},
   "source": []
  },
  {
   "cell_type": "markdown",
   "metadata": {},
   "source": []
  },
  {
   "cell_type": "markdown",
   "metadata": {},
   "source": []
  },
  {
   "cell_type": "markdown",
   "metadata": {},
   "source": []
  },
  {
   "cell_type": "code",
   "execution_count": null,
   "metadata": {},
   "outputs": [],
   "source": []
  }
 ],
 "metadata": {
  "kernelspec": {
   "display_name": "Python 3",
   "language": "python",
   "name": "python3"
  },
  "language_info": {
   "codemirror_mode": {
    "name": "ipython",
    "version": 3
   },
   "file_extension": ".py",
   "mimetype": "text/x-python",
   "name": "python",
   "nbconvert_exporter": "python",
   "pygments_lexer": "ipython3",
   "version": "3.7.4"
  }
 },
 "nbformat": 4,
 "nbformat_minor": 2
}
